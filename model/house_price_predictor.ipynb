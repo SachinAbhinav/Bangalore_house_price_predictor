{
 "cells": [
  {
   "cell_type": "code",
   "execution_count": 1,
   "id": "initial_id",
   "metadata": {
    "ExecuteTime": {
     "end_time": "2024-02-20T16:43:10.772074400Z",
     "start_time": "2024-02-20T16:43:10.748105200Z"
    },
    "collapsed": true
   },
   "outputs": [],
   "source": [
    "import numpy as np\n",
    "import pandas as pd\n",
    "import matplotlib.pyplot as plt\n",
    "from statistics import mean"
   ]
  },
  {
   "cell_type": "code",
   "execution_count": 2,
   "id": "e3fb431bb1323969",
   "metadata": {
    "ExecuteTime": {
     "end_time": "2024-02-20T11:58:04.997271500Z",
     "start_time": "2024-02-20T11:58:04.935776800Z"
    },
    "collapsed": false
   },
   "outputs": [
    {
     "data": {
      "text/plain": [
       "13320"
      ]
     },
     "execution_count": 2,
     "metadata": {},
     "output_type": "execute_result"
    }
   ],
   "source": [
    "df = pd.read_csv('../model/Bengaluru_House_Data.csv')\n",
    "len(df)"
   ]
  },
  {
   "cell_type": "code",
   "execution_count": 3,
   "id": "4ec497ef88d3c664",
   "metadata": {
    "ExecuteTime": {
     "end_time": "2024-02-20T11:58:04.998559900Z",
     "start_time": "2024-02-20T11:58:04.968905900Z"
    },
    "collapsed": false
   },
   "outputs": [
    {
     "data": {
      "text/plain": [
       "13320"
      ]
     },
     "execution_count": 3,
     "metadata": {},
     "output_type": "execute_result"
    }
   ],
   "source": [
    "df.drop(['area_type', 'availability', 'society'], axis=1, inplace=True)\n",
    "len(df)"
   ]
  },
  {
   "cell_type": "code",
   "execution_count": 4,
   "id": "b4dc3fe751e2bd17",
   "metadata": {
    "ExecuteTime": {
     "end_time": "2024-02-20T11:58:05.063448800Z",
     "start_time": "2024-02-20T11:58:04.985510300Z"
    },
    "collapsed": false
   },
   "outputs": [],
   "source": [
    "df.dropna(inplace=True)\n",
    "def converter(val):\n",
    "    \n",
    "    if '-' in val:\n",
    "        return mean(list(map(float, val.split('-'))))\n",
    "    elif 'Meter' in val or 'Meters' in val or 'meter' in val or 'meters' in val:\n",
    "        return float(val[:val.index('S')])*10.7639\n",
    "    elif 'Yard' in val or 'Yards' in val or 'yard' in val or 'yards' in val:\n",
    "        return float(val[:val.index('S')])*9\n",
    "    elif 'Acres' in val:\n",
    "        return float(val[:val.index('A')])*43560\n",
    "    elif 'Cents' in val:\n",
    "        return float(val[:val.index('C')])*435.56\n",
    "    elif 'Guntha' in val:\n",
    "        return float(val[:val.index('G')])*1089\n",
    "    elif 'Grounds' in val:\n",
    "        return float(val[:val.index('G')])*2400\n",
    "    else:\n",
    "        return float(val)\n",
    "        \n",
    "    \n",
    "df['total_sqft'] = df['total_sqft'].apply(converter)"
   ]
  },
  {
   "cell_type": "code",
   "execution_count": 5,
   "id": "16241e113a77fffa",
   "metadata": {
    "ExecuteTime": {
     "end_time": "2024-02-20T11:58:05.065255500Z",
     "start_time": "2024-02-20T11:58:05.012861500Z"
    },
    "collapsed": false
   },
   "outputs": [],
   "source": [
    "df2 = df.copy(deep=True)"
   ]
  },
  {
   "cell_type": "code",
   "execution_count": 6,
   "id": "f5be7bfbd4daf028",
   "metadata": {
    "ExecuteTime": {
     "end_time": "2024-02-20T11:58:05.279118200Z",
     "start_time": "2024-02-20T11:58:05.027986500Z"
    },
    "collapsed": false
   },
   "outputs": [],
   "source": [
    "# Changing the location that has less than 10 homes in total to Others\n",
    "loc_to_be_removed = df2.location.unique()[df['location'].value_counts() < 10]\n",
    "df2.location = df2.location.apply(lambda x: 'others' if x in loc_to_be_removed else x) "
   ]
  },
  {
   "cell_type": "code",
   "execution_count": 7,
   "id": "7d20a2e383d0c1e5",
   "metadata": {
    "ExecuteTime": {
     "end_time": "2024-02-20T11:58:05.296113100Z",
     "start_time": "2024-02-20T11:58:05.280289300Z"
    },
    "collapsed": false
   },
   "outputs": [],
   "source": [
    "# Changing the size column\n",
    "df2['size'] = df2['size'].apply(lambda x: int(x.split()[0]))"
   ]
  },
  {
   "cell_type": "code",
   "execution_count": 8,
   "id": "da0fbca75c89993d",
   "metadata": {
    "ExecuteTime": {
     "end_time": "2024-02-20T11:58:05.524731500Z",
     "start_time": "2024-02-20T11:58:05.297222100Z"
    },
    "collapsed": false
   },
   "outputs": [],
   "source": [
    "# Making the price column value in range for each of the location\n",
    "res = pd.DataFrame()\n",
    "for location, subdf in df2.groupby('location'):\n",
    "    mn = np.mean(subdf.price)\n",
    "    std = np.std(subdf.price)\n",
    "    res = pd.concat((res, subdf[(subdf.price > mn - std) & (subdf.price < mn + std)]))\n"
   ]
  },
  {
   "cell_type": "code",
   "execution_count": 9,
   "id": "51fb090e45992bac",
   "metadata": {
    "ExecuteTime": {
     "end_time": "2024-02-20T11:58:05.529835800Z",
     "start_time": "2024-02-20T11:58:05.525800600Z"
    },
    "collapsed": false
   },
   "outputs": [],
   "source": [
    "df3 = res.copy()"
   ]
  },
  {
   "cell_type": "code",
   "execution_count": 10,
   "id": "6aabced457362887",
   "metadata": {
    "ExecuteTime": {
     "end_time": "2024-02-20T11:58:05.550568800Z",
     "start_time": "2024-02-20T11:58:05.531996300Z"
    },
    "collapsed": false
   },
   "outputs": [
    {
     "data": {
      "text/plain": [
       "11012"
      ]
     },
     "execution_count": 10,
     "metadata": {},
     "output_type": "execute_result"
    }
   ],
   "source": [
    "len(df3)"
   ]
  },
  {
   "cell_type": "code",
   "execution_count": 11,
   "id": "e8a6e021f358f932",
   "metadata": {
    "ExecuteTime": {
     "end_time": "2024-02-20T11:58:05.566821500Z",
     "start_time": "2024-02-20T11:58:05.548765Z"
    },
    "collapsed": false
   },
   "outputs": [],
   "source": [
    "def visualize(location, df):\n",
    "    bhk2 = df[(df['location'] == location) & (df['size'] == 2)][['total_sqft', 'price']]\n",
    "    bhk3 = df[(df['location'] == location) & (df['size'] == 3)][['total_sqft', 'price']]\n",
    "    \n",
    "    plt.scatter(bhk2['total_sqft'], bhk2['price'], color='red')\n",
    "    plt.scatter(bhk3['total_sqft'], bhk3['price'], color='green', marker='+')\n",
    "    \n",
    "    plt.xlabel('Total Square  Feet')\n",
    "    plt.ylabel('Price')\n",
    "    \n",
    "    "
   ]
  },
  {
   "cell_type": "code",
   "execution_count": 12,
   "id": "8c39ff813738695a",
   "metadata": {
    "ExecuteTime": {
     "end_time": "2024-02-20T11:58:05.768184200Z",
     "start_time": "2024-02-20T11:58:05.560129800Z"
    },
    "collapsed": false
   },
   "outputs": [
    {
     "data": {
      "image/png": "[encoded data removed]",
      "text/plain": [
       "<Figure size 640x480 with 1 Axes>"
      ]
     },
     "metadata": {},
     "output_type": "display_data"
    }
   ],
   "source": [
    "visualize('Electronic City', df2)"
   ]
  },
  {
   "cell_type": "code",
   "execution_count": 13,
   "id": "7cfe109b0d6ced34",
   "metadata": {
    "ExecuteTime": {
     "end_time": "2024-02-20T11:58:05.890658100Z",
     "start_time": "2024-02-20T11:58:05.785256100Z"
    },
    "collapsed": false
   },
   "outputs": [],
   "source": [
    "def remove_outliers(df):\n",
    "    res = pd.DataFrame()\n",
    "    for location, subdf in df.groupby('location'):\n",
    "        bhk = dict()\n",
    "        for size, subdf2 in subdf.groupby('size'):\n",
    "            bhk[size] = np.mean(subdf2['price'])\n",
    "        for size, subdf3 in subdf.groupby('size'):\n",
    "            if size-1 in bhk:\n",
    "                res = pd.concat((res, subdf3[subdf3.price > bhk[size-1]]), ignore_index=True)\n",
    "            else:\n",
    "                res = pd.concat((res, subdf3))\n",
    "    return res        \n",
    "        "
   ]
  },
  {
   "cell_type": "code",
   "execution_count": 14,
   "id": "3b766d4d07ba217d",
   "metadata": {
    "ExecuteTime": {
     "end_time": "2024-02-20T11:58:06.421721200Z",
     "start_time": "2024-02-20T11:58:05.819234400Z"
    },
    "collapsed": false
   },
   "outputs": [],
   "source": [
    "df4 = remove_outliers(df3).copy()"
   ]
  },
  {
   "cell_type": "code",
   "execution_count": 15,
   "id": "5aaed3aba21f23a",
   "metadata": {
    "ExecuteTime": {
     "end_time": "2024-02-20T11:58:06.564974200Z",
     "start_time": "2024-02-20T11:58:06.406703800Z"
    },
    "collapsed": false
   },
   "outputs": [
    {
     "data": {
      "image/png": "[encoded data removed]",
      "text/plain": [
       "<Figure size 640x480 with 1 Axes>"
      ]
     },
     "metadata": {},
     "output_type": "display_data"
    }
   ],
   "source": [
    "visualize('Electronic City', df4)"
   ]
  },
  {
   "cell_type": "code",
   "execution_count": 16,
   "id": "4ce8aacabd11628f",
   "metadata": {
    "ExecuteTime": {
     "end_time": "2024-02-20T11:58:06.582598200Z",
     "start_time": "2024-02-20T11:58:06.563229300Z"
    },
    "collapsed": false
   },
   "outputs": [],
   "source": [
    "# removing rows if no of bathroom is 2 grater than  no of bed rooms\n",
    "df4['size'] = df4['size'].apply(lambda x: int(x))\n",
    "df5 = df4[df4['bath'] <= df4['size'] + 2]"
   ]
  },
  {
   "cell_type": "code",
   "execution_count": 17,
   "id": "3be6e32c0c268fae",
   "metadata": {
    "ExecuteTime": {
     "end_time": "2024-02-20T11:58:06.585599900Z",
     "start_time": "2024-02-20T11:58:06.575064600Z"
    },
    "collapsed": false
   },
   "outputs": [
    {
     "name": "stderr",
     "output_type": "stream",
     "text": [
      "C:\\Users\\JB_SACHIN\\AppData\\Local\\Temp\\ipykernel_18768\\3767644928.py:1: SettingWithCopyWarning: \n",
      "A value is trying to be set on a copy of a slice from a DataFrame.\n",
      "Try using .loc[row_indexer,col_indexer] = value instead\n",
      "\n",
      "See the caveats in the documentation: https://pandas.pydata.org/pandas-docs/stable/user_guide/indexing.html#returning-a-view-versus-a-copy\n",
      "  df5.location = df5.location.apply(lambda x: x.strip())\n"
     ]
    }
   ],
   "source": [
    "df5.location = df5.location.apply(lambda x: x.strip())"
   ]
  },
  {
   "cell_type": "code",
   "execution_count": 18,
   "id": "ecefe57a93a08520",
   "metadata": {
    "ExecuteTime": {
     "end_time": "2024-02-20T11:58:06.678316Z",
     "start_time": "2024-02-20T11:58:06.584600900Z"
    },
    "collapsed": false
   },
   "outputs": [],
   "source": [
    "dummies = pd.get_dummies(df5.location, dtype='int')\n",
    "df5 = pd.concat((dummies, df5), axis=1)"
   ]
  },
  {
   "cell_type": "code",
   "execution_count": 19,
   "id": "78acae264264d33c",
   "metadata": {
    "ExecuteTime": {
     "end_time": "2024-02-20T11:58:06.679317100Z",
     "start_time": "2024-02-20T11:58:06.600176Z"
    },
    "collapsed": false
   },
   "outputs": [],
   "source": [
    "df5.drop('location', axis=1, inplace=True)"
   ]
  },
  {
   "cell_type": "code",
   "execution_count": 20,
   "id": "c267eba09c652936",
   "metadata": {
    "ExecuteTime": {
     "end_time": "2024-02-20T11:58:06.718313500Z",
     "start_time": "2024-02-20T11:58:06.611627800Z"
    },
    "collapsed": false
   },
   "outputs": [
    {
     "data": {
      "text/html": [
       "<div>\n",
       "<style scoped>\n",
       "    .dataframe tbody tr th:only-of-type {\n",
       "        vertical-align: middle;\n",
       "    }\n",
       "\n",
       "    .dataframe tbody tr th {\n",
       "        vertical-align: top;\n",
       "    }\n",
       "\n",
       "    .dataframe thead th {\n",
       "        text-align: right;\n",
       "    }\n",
       "</style>\n",
       "<table border=\"1\" class=\"dataframe\">\n",
       "  <thead>\n",
       "    <tr style=\"text-align: right;\">\n",
       "      <th></th>\n",
       "      <th>1st Block Jayanagar</th>\n",
       "      <th>2nd Stage Nagarbhavi</th>\n",
       "      <th>3rd Block Hrbr Layout</th>\n",
       "      <th>5th Phase JP Nagar</th>\n",
       "      <th>6th Phase JP Nagar</th>\n",
       "      <th>7th Phase JP Nagar</th>\n",
       "      <th>8th Phase JP Nagar</th>\n",
       "      <th>8th block Koramangala</th>\n",
       "      <th>9th Phase JP Nagar</th>\n",
       "      <th>AECS Layout</th>\n",
       "      <th>...</th>\n",
       "      <th>Yarandahalli</th>\n",
       "      <th>Yelahanka</th>\n",
       "      <th>Yelenahalli</th>\n",
       "      <th>Yeshwanthpur</th>\n",
       "      <th>others</th>\n",
       "      <th>size</th>\n",
       "      <th>total_sqft</th>\n",
       "      <th>bath</th>\n",
       "      <th>balcony</th>\n",
       "      <th>price</th>\n",
       "    </tr>\n",
       "  </thead>\n",
       "  <tbody>\n",
       "    <tr>\n",
       "      <th>0</th>\n",
       "      <td>0</td>\n",
       "      <td>0</td>\n",
       "      <td>0</td>\n",
       "      <td>0</td>\n",
       "      <td>0</td>\n",
       "      <td>0</td>\n",
       "      <td>0</td>\n",
       "      <td>0</td>\n",
       "      <td>0</td>\n",
       "      <td>0</td>\n",
       "      <td>...</td>\n",
       "      <td>0</td>\n",
       "      <td>0</td>\n",
       "      <td>0</td>\n",
       "      <td>0</td>\n",
       "      <td>0</td>\n",
       "      <td>2</td>\n",
       "      <td>1250.0</td>\n",
       "      <td>2.0</td>\n",
       "      <td>2.0</td>\n",
       "      <td>40.0</td>\n",
       "    </tr>\n",
       "    <tr>\n",
       "      <th>1</th>\n",
       "      <td>0</td>\n",
       "      <td>0</td>\n",
       "      <td>0</td>\n",
       "      <td>0</td>\n",
       "      <td>0</td>\n",
       "      <td>0</td>\n",
       "      <td>0</td>\n",
       "      <td>0</td>\n",
       "      <td>0</td>\n",
       "      <td>0</td>\n",
       "      <td>...</td>\n",
       "      <td>0</td>\n",
       "      <td>0</td>\n",
       "      <td>0</td>\n",
       "      <td>0</td>\n",
       "      <td>0</td>\n",
       "      <td>2</td>\n",
       "      <td>1200.0</td>\n",
       "      <td>2.0</td>\n",
       "      <td>2.0</td>\n",
       "      <td>83.0</td>\n",
       "    </tr>\n",
       "    <tr>\n",
       "      <th>2</th>\n",
       "      <td>0</td>\n",
       "      <td>0</td>\n",
       "      <td>0</td>\n",
       "      <td>0</td>\n",
       "      <td>0</td>\n",
       "      <td>0</td>\n",
       "      <td>0</td>\n",
       "      <td>0</td>\n",
       "      <td>0</td>\n",
       "      <td>0</td>\n",
       "      <td>...</td>\n",
       "      <td>0</td>\n",
       "      <td>0</td>\n",
       "      <td>0</td>\n",
       "      <td>0</td>\n",
       "      <td>0</td>\n",
       "      <td>2</td>\n",
       "      <td>1170.0</td>\n",
       "      <td>2.0</td>\n",
       "      <td>2.0</td>\n",
       "      <td>40.0</td>\n",
       "    </tr>\n",
       "    <tr>\n",
       "      <th>3</th>\n",
       "      <td>0</td>\n",
       "      <td>0</td>\n",
       "      <td>0</td>\n",
       "      <td>0</td>\n",
       "      <td>0</td>\n",
       "      <td>0</td>\n",
       "      <td>0</td>\n",
       "      <td>0</td>\n",
       "      <td>0</td>\n",
       "      <td>0</td>\n",
       "      <td>...</td>\n",
       "      <td>0</td>\n",
       "      <td>0</td>\n",
       "      <td>0</td>\n",
       "      <td>0</td>\n",
       "      <td>0</td>\n",
       "      <td>2</td>\n",
       "      <td>947.0</td>\n",
       "      <td>2.0</td>\n",
       "      <td>2.0</td>\n",
       "      <td>43.0</td>\n",
       "    </tr>\n",
       "    <tr>\n",
       "      <th>4</th>\n",
       "      <td>0</td>\n",
       "      <td>0</td>\n",
       "      <td>0</td>\n",
       "      <td>0</td>\n",
       "      <td>0</td>\n",
       "      <td>0</td>\n",
       "      <td>0</td>\n",
       "      <td>0</td>\n",
       "      <td>0</td>\n",
       "      <td>0</td>\n",
       "      <td>...</td>\n",
       "      <td>0</td>\n",
       "      <td>0</td>\n",
       "      <td>0</td>\n",
       "      <td>0</td>\n",
       "      <td>0</td>\n",
       "      <td>2</td>\n",
       "      <td>1130.0</td>\n",
       "      <td>2.0</td>\n",
       "      <td>2.0</td>\n",
       "      <td>36.0</td>\n",
       "    </tr>\n",
       "    <tr>\n",
       "      <th>...</th>\n",
       "      <td>...</td>\n",
       "      <td>...</td>\n",
       "      <td>...</td>\n",
       "      <td>...</td>\n",
       "      <td>...</td>\n",
       "      <td>...</td>\n",
       "      <td>...</td>\n",
       "      <td>...</td>\n",
       "      <td>...</td>\n",
       "      <td>...</td>\n",
       "      <td>...</td>\n",
       "      <td>...</td>\n",
       "      <td>...</td>\n",
       "      <td>...</td>\n",
       "      <td>...</td>\n",
       "      <td>...</td>\n",
       "      <td>...</td>\n",
       "      <td>...</td>\n",
       "      <td>...</td>\n",
       "      <td>...</td>\n",
       "      <td>...</td>\n",
       "    </tr>\n",
       "    <tr>\n",
       "      <th>9019</th>\n",
       "      <td>0</td>\n",
       "      <td>0</td>\n",
       "      <td>0</td>\n",
       "      <td>0</td>\n",
       "      <td>0</td>\n",
       "      <td>0</td>\n",
       "      <td>0</td>\n",
       "      <td>0</td>\n",
       "      <td>0</td>\n",
       "      <td>0</td>\n",
       "      <td>...</td>\n",
       "      <td>0</td>\n",
       "      <td>0</td>\n",
       "      <td>0</td>\n",
       "      <td>0</td>\n",
       "      <td>1</td>\n",
       "      <td>9</td>\n",
       "      <td>1200.0</td>\n",
       "      <td>9.0</td>\n",
       "      <td>3.0</td>\n",
       "      <td>230.0</td>\n",
       "    </tr>\n",
       "    <tr>\n",
       "      <th>9020</th>\n",
       "      <td>0</td>\n",
       "      <td>0</td>\n",
       "      <td>0</td>\n",
       "      <td>0</td>\n",
       "      <td>0</td>\n",
       "      <td>0</td>\n",
       "      <td>0</td>\n",
       "      <td>0</td>\n",
       "      <td>0</td>\n",
       "      <td>0</td>\n",
       "      <td>...</td>\n",
       "      <td>0</td>\n",
       "      <td>0</td>\n",
       "      <td>0</td>\n",
       "      <td>0</td>\n",
       "      <td>1</td>\n",
       "      <td>11</td>\n",
       "      <td>1200.0</td>\n",
       "      <td>11.0</td>\n",
       "      <td>0.0</td>\n",
       "      <td>170.0</td>\n",
       "    </tr>\n",
       "    <tr>\n",
       "      <th>9021</th>\n",
       "      <td>0</td>\n",
       "      <td>0</td>\n",
       "      <td>0</td>\n",
       "      <td>0</td>\n",
       "      <td>0</td>\n",
       "      <td>0</td>\n",
       "      <td>0</td>\n",
       "      <td>0</td>\n",
       "      <td>0</td>\n",
       "      <td>0</td>\n",
       "      <td>...</td>\n",
       "      <td>0</td>\n",
       "      <td>0</td>\n",
       "      <td>0</td>\n",
       "      <td>0</td>\n",
       "      <td>1</td>\n",
       "      <td>11</td>\n",
       "      <td>1200.0</td>\n",
       "      <td>6.0</td>\n",
       "      <td>3.0</td>\n",
       "      <td>150.0</td>\n",
       "    </tr>\n",
       "    <tr>\n",
       "      <th>9022</th>\n",
       "      <td>0</td>\n",
       "      <td>0</td>\n",
       "      <td>0</td>\n",
       "      <td>0</td>\n",
       "      <td>0</td>\n",
       "      <td>0</td>\n",
       "      <td>0</td>\n",
       "      <td>0</td>\n",
       "      <td>0</td>\n",
       "      <td>0</td>\n",
       "      <td>...</td>\n",
       "      <td>0</td>\n",
       "      <td>0</td>\n",
       "      <td>0</td>\n",
       "      <td>0</td>\n",
       "      <td>1</td>\n",
       "      <td>13</td>\n",
       "      <td>5425.0</td>\n",
       "      <td>13.0</td>\n",
       "      <td>0.0</td>\n",
       "      <td>275.0</td>\n",
       "    </tr>\n",
       "    <tr>\n",
       "      <th>1718</th>\n",
       "      <td>0</td>\n",
       "      <td>0</td>\n",
       "      <td>0</td>\n",
       "      <td>0</td>\n",
       "      <td>0</td>\n",
       "      <td>0</td>\n",
       "      <td>0</td>\n",
       "      <td>0</td>\n",
       "      <td>0</td>\n",
       "      <td>0</td>\n",
       "      <td>...</td>\n",
       "      <td>0</td>\n",
       "      <td>0</td>\n",
       "      <td>0</td>\n",
       "      <td>0</td>\n",
       "      <td>1</td>\n",
       "      <td>27</td>\n",
       "      <td>8000.0</td>\n",
       "      <td>27.0</td>\n",
       "      <td>0.0</td>\n",
       "      <td>230.0</td>\n",
       "    </tr>\n",
       "  </tbody>\n",
       "</table>\n",
       "<p>9022 rows × 220 columns</p>\n",
       "</div>"
      ],
      "text/plain": [
       "      1st Block Jayanagar  2nd Stage Nagarbhavi  3rd Block Hrbr Layout  \\\n",
       "0                       0                     0                      0   \n",
       "1                       0                     0                      0   \n",
       "2                       0                     0                      0   \n",
       "3                       0                     0                      0   \n",
       "4                       0                     0                      0   \n",
       "...                   ...                   ...                    ...   \n",
       "9019                    0                     0                      0   \n",
       "9020                    0                     0                      0   \n",
       "9021                    0                     0                      0   \n",
       "9022                    0                     0                      0   \n",
       "1718                    0                     0                      0   \n",
       "\n",
       "      5th Phase JP Nagar  6th Phase JP Nagar  7th Phase JP Nagar  \\\n",
       "0                      0                   0                   0   \n",
       "1                      0                   0                   0   \n",
       "2                      0                   0                   0   \n",
       "3                      0                   0                   0   \n",
       "4                      0                   0                   0   \n",
       "...                  ...                 ...                 ...   \n",
       "9019                   0                   0                   0   \n",
       "9020                   0                   0                   0   \n",
       "9021                   0                   0                   0   \n",
       "9022                   0                   0                   0   \n",
       "1718                   0                   0                   0   \n",
       "\n",
       "      8th Phase JP Nagar  8th block Koramangala  9th Phase JP Nagar  \\\n",
       "0                      0                      0                   0   \n",
       "1                      0                      0                   0   \n",
       "2                      0                      0                   0   \n",
       "3                      0                      0                   0   \n",
       "4                      0                      0                   0   \n",
       "...                  ...                    ...                 ...   \n",
       "9019                   0                      0                   0   \n",
       "9020                   0                      0                   0   \n",
       "9021                   0                      0                   0   \n",
       "9022                   0                      0                   0   \n",
       "1718                   0                      0                   0   \n",
       "\n",
       "      AECS Layout  ...  Yarandahalli  Yelahanka  Yelenahalli  Yeshwanthpur  \\\n",
       "0               0  ...             0          0            0             0   \n",
       "1               0  ...             0          0            0             0   \n",
       "2               0  ...             0          0            0             0   \n",
       "3               0  ...             0          0            0             0   \n",
       "4               0  ...             0          0            0             0   \n",
       "...           ...  ...           ...        ...          ...           ...   \n",
       "9019            0  ...             0          0            0             0   \n",
       "9020            0  ...             0          0            0             0   \n",
       "9021            0  ...             0          0            0             0   \n",
       "9022            0  ...             0          0            0             0   \n",
       "1718            0  ...             0          0            0             0   \n",
       "\n",
       "      others  size  total_sqft  bath  balcony  price  \n",
       "0          0     2      1250.0   2.0      2.0   40.0  \n",
       "1          0     2      1200.0   2.0      2.0   83.0  \n",
       "2          0     2      1170.0   2.0      2.0   40.0  \n",
       "3          0     2       947.0   2.0      2.0   43.0  \n",
       "4          0     2      1130.0   2.0      2.0   36.0  \n",
       "...      ...   ...         ...   ...      ...    ...  \n",
       "9019       1     9      1200.0   9.0      3.0  230.0  \n",
       "9020       1    11      1200.0  11.0      0.0  170.0  \n",
       "9021       1    11      1200.0   6.0      3.0  150.0  \n",
       "9022       1    13      5425.0  13.0      0.0  275.0  \n",
       "1718       1    27      8000.0  27.0      0.0  230.0  \n",
       "\n",
       "[9022 rows x 220 columns]"
      ]
     },
     "execution_count": 20,
     "metadata": {},
     "output_type": "execute_result"
    }
   ],
   "source": [
    "df5"
   ]
  },
  {
   "cell_type": "code",
   "execution_count": 21,
   "id": "939071d361c686e1",
   "metadata": {
    "ExecuteTime": {
     "end_time": "2024-02-20T11:58:08.571949200Z",
     "start_time": "2024-02-20T11:58:06.639317800Z"
    },
    "collapsed": false
   },
   "outputs": [],
   "source": [
    "from sklearn.model_selection import train_test_split\n",
    "X, y = df5.drop('price', axis=1), df5['price']\n",
    "X_train, X_test, y_train, y_test = train_test_split(X, y, test_size=0.2, random_state=20)"
   ]
  },
  {
   "cell_type": "code",
   "execution_count": 25,
   "id": "9cd6019d7445de01",
   "metadata": {
    "ExecuteTime": {
     "end_time": "2024-02-20T11:59:19.751287100Z",
     "start_time": "2024-02-20T11:59:19.607814200Z"
    },
    "collapsed": false
   },
   "outputs": [
    {
     "data": {
      "text/plain": [
       "0.6027968574797187"
      ]
     },
     "execution_count": 25,
     "metadata": {},
     "output_type": "execute_result"
    }
   ],
   "source": [
    "from sklearn.linear_model import LinearRegression\n",
    "from sklearn.model_selection import cross_val_score\n",
    "lr_model =LinearRegression()\n",
    "lr_model.fit(X_train, y_train)\n",
    "lr_model.score(X_test, y_test)\n",
    "# len(X_train.columns)# cross_val_score(lr_model, X_test, y_test)"
   ]
  },
  {
   "cell_type": "code",
   "execution_count": 26,
   "id": "62cf12cda172ddd8",
   "metadata": {
    "ExecuteTime": {
     "end_time": "2024-02-20T11:58:08.867765500Z",
     "start_time": "2024-02-20T11:58:08.852863800Z"
    },
    "collapsed": false
   },
   "outputs": [
    {
     "data": {
      "text/plain": [
       "215"
      ]
     },
     "execution_count": 26,
     "metadata": {},
     "output_type": "execute_result"
    }
   ],
   "source": [
    "np.where(X_train.columns == 'size')[0][0]"
   ]
  },
  {
   "cell_type": "code",
   "execution_count": 27,
   "id": "39f5366f433f587c",
   "metadata": {
    "ExecuteTime": {
     "end_time": "2024-02-20T11:58:08.924187300Z",
     "start_time": "2024-02-20T11:58:08.863456100Z"
    },
    "collapsed": false
   },
   "outputs": [],
   "source": [
    "def predict_price(location, size, total_sqft, bath, balcony):\n",
    "    x = np.zeros(len(X_train.columns))\n",
    "    x[-1] = balcony\n",
    "    x[-2] = bath\n",
    "    x[-3] = total_sqft\n",
    "    x[-4] = size\n",
    "    loc_ind = np.where(X_train.columns == location)[0][0]\n",
    "    x[loc_ind] = 1\n",
    "    x = x.reshape(1, -1)\n",
    "    \n",
    "    return lr_model.predict(x)\n",
    "    \n",
    "    "
   ]
  },
  {
   "cell_type": "code",
   "execution_count": 28,
   "id": "c3fdf240f2e91594",
   "metadata": {
    "ExecuteTime": {
     "end_time": "2024-02-20T11:58:08.925279600Z",
     "start_time": "2024-02-20T11:58:08.873775200Z"
    },
    "collapsed": false
   },
   "outputs": [
    {
     "data": {
      "text/plain": [
       "(array([], dtype=int64),)"
      ]
     },
     "execution_count": 28,
     "metadata": {},
     "output_type": "execute_result"
    }
   ],
   "source": [
    "np.where(X_train.columns == 'AECS ayout')"
   ]
  },
  {
   "cell_type": "code",
   "execution_count": 29,
   "id": "bd08cfb6bd7445ad",
   "metadata": {
    "ExecuteTime": {
     "end_time": "2024-02-20T11:58:08.927389600Z",
     "start_time": "2024-02-20T11:58:08.880879100Z"
    },
    "collapsed": false
   },
   "outputs": [
    {
     "data": {
      "text/plain": [
       "Index(['1st Block Jayanagar', '2nd Stage Nagarbhavi', '3rd Block Hrbr Layout',\n",
       "       '5th Phase JP Nagar', '6th Phase JP Nagar', '7th Phase JP Nagar',\n",
       "       '8th Phase JP Nagar', '8th block Koramangala', '9th Phase JP Nagar',\n",
       "       'AECS Layout',\n",
       "       ...\n",
       "       'Whitefield', 'Yarandahalli', 'Yelahanka', 'Yelenahalli',\n",
       "       'Yeshwanthpur', 'others', 'size', 'total_sqft', 'bath', 'balcony'],\n",
       "      dtype='object', length=219)"
      ]
     },
     "execution_count": 29,
     "metadata": {},
     "output_type": "execute_result"
    }
   ],
   "source": [
    "X_train.columns"
   ]
  },
  {
   "cell_type": "code",
   "execution_count": null,
   "id": "7d17277b0bcc7993",
   "metadata": {
    "ExecuteTime": {
     "end_time": "2024-02-20T11:58:08.987786500Z",
     "start_time": "2024-02-20T11:58:08.891047900Z"
    },
    "collapsed": false
   },
   "outputs": [],
   "source": []
  },
  {
   "cell_type": "code",
   "execution_count": 30,
   "id": "39502f1049271214",
   "metadata": {
    "ExecuteTime": {
     "end_time": "2024-02-20T11:58:08.989891Z",
     "start_time": "2024-02-20T11:58:08.895870200Z"
    },
    "collapsed": false
   },
   "outputs": [],
   "source": [
    "import pickle\n",
    "with open('bengaluru_house_pred_model.pickle', 'wb') as f:\n",
    "    pickle.dump(lr_model, f)"
   ]
  },
  {
   "cell_type": "code",
   "execution_count": 31,
   "id": "924fa42157242949",
   "metadata": {
    "ExecuteTime": {
     "end_time": "2024-02-20T11:58:08.991030200Z",
     "start_time": "2024-02-20T11:58:08.904819200Z"
    },
    "collapsed": false
   },
   "outputs": [],
   "source": [
    "import json\n",
    "columns = {\n",
    "    'data_columns': [col.lower() for col in X.columns]\n",
    "}\n",
    "with open('columns.json', 'w') as f:\n",
    "    f.write(json.dumps(columns))"
   ]
  },
  {
   "cell_type": "markdown",
   "id": "4a245e4fd916b245",
   "metadata": {
    "collapsed": false
   },
   "source": []
  },
  {
   "cell_type": "markdown",
   "id": "dc6bba699ce7c6c5",
   "metadata": {
    "collapsed": false
   },
   "source": []
  },
  {
   "cell_type": "code",
   "execution_count": null,
   "id": "fd22bd67cf0dd20",
   "metadata": {
    "collapsed": false
   },
   "outputs": [],
   "source": []
  }
 ],
 "metadata": {
  "kernelspec": {
   "display_name": "Python 3",
   "language": "python",
   "name": "python3"
  },
  "language_info": {
   "codemirror_mode": {
    "name": "ipython",
    "version": 3
   },
   "file_extension": ".py",
   "mimetype": "text/x-python",
   "name": "python",
   "nbconvert_exporter": "python",
   "pygments_lexer": "ipython3",
   "version": "3.12.3"
  }
 },
 "nbformat": 4,
 "nbformat_minor": 5
}
